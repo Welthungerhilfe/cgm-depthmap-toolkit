{
  "cells": [
    {
      "cell_type": "markdown",
      "metadata": {
        "nteract": {
          "transient": {
            "deleting": false
          }
        }
      },
      "source": [
        "## Import libaries"
      ]
    },
    {
      "cell_type": "code",
      "execution_count": null,
      "metadata": {
        "gather": {
          "logged": 1706590999765
        }
      },
      "outputs": [],
      "source": [
        "import os\n",
        "import pandas as pd\n",
        "import numpy as np\n",
        "import pickle\n",
        "import matplotlib.pyplot as plt\n",
        "\n",
        "from scipy.interpolate import griddata\n",
        "from mpl_toolkits.mplot3d import Axes3D"
      ]
    },
    {
      "cell_type": "markdown",
      "metadata": {
        "nteract": {
          "transient": {
            "deleting": false
          }
        }
      },
      "source": [
        "## Mount Dataset"
      ]
    },
    {
      "cell_type": "code",
      "execution_count": null,
      "metadata": {
        "gather": {
          "logged": 1706591001037
        }
      },
      "outputs": [],
      "source": [
        "from azureml.core import Dataset, Workspace, Model\n",
        "workspace = Workspace.from_config()"
      ]
    },
    {
      "cell_type": "code",
      "execution_count": null,
      "metadata": {
        "gather": {
          "logged": 1706591004965
        }
      },
      "outputs": [],
      "source": [
        "dataset = Dataset.get_by_name(workspace, name='RGBDS-150K-test', version=2)\n",
        "mount_ctx = dataset.mount()  \n",
        "mount_ctx.start()\n",
        "mount_path = mount_ctx.mount_point\n",
        "mount_path"
      ]
    },
    {
      "cell_type": "markdown",
      "metadata": {
        "nteract": {
          "transient": {
            "deleting": false
          }
        }
      },
      "source": [
        "## Load CSV and Filter"
      ]
    },
    {
      "cell_type": "code",
      "execution_count": null,
      "metadata": {
        "gather": {
          "logged": 1706591022404
        }
      },
      "outputs": [],
      "source": [
        "test_df = pd.read_csv('test_result_mobilenet.csv')\n",
        "test_df['errors'] = test_df['predicted_height'] - test_df['height']\n",
        "test_df[\"pose_data_2\"] = test_df[\"pose_data\"].apply(lambda x: eval(x))\n",
        "test_df[\"pose_score\"] = test_df[\"pose_data_2\"].apply(lambda x: float(x[\"Pose Scores\"]))\n",
        "print(f\"Number of artifacts in the test dataset: {len(test_df)}\")"
      ]
    },
    {
      "cell_type": "code",
      "execution_count": null,
      "metadata": {
        "gather": {
          "logged": 1706591022577
        },
        "jupyter": {
          "outputs_hidden": false,
          "source_hidden": false
        },
        "nteract": {
          "transient": {
            "deleting": false
          }
        }
      },
      "outputs": [],
      "source": [
        "filtered_test_df = test_df[\n",
        "    (test_df['distance_to_child'] > 0.1) &\n",
        "    (test_df['overlap'] > 90) &\n",
        "    (test_df['pose_score'] > 0.8) & \n",
        "    (test_df['angle'].between(-60, -10))\n",
        "]    "
      ]
    },
    {
      "cell_type": "markdown",
      "metadata": {
        "nteract": {
          "transient": {
            "deleting": false
          }
        }
      },
      "source": [
        "## Functions for viewing"
      ]
    },
    {
      "cell_type": "code",
      "execution_count": null,
      "metadata": {
        "gather": {
          "logged": 1706591023207
        }
      },
      "outputs": [],
      "source": [
        "from depthmap_preprocess import replace_values_above_threshold_by_zero, fill_zeros_inpainting"
      ]
    },
    {
      "cell_type": "code",
      "execution_count": null,
      "metadata": {
        "gather": {
          "logged": 1706591023350
        }
      },
      "outputs": [],
      "source": [
        "def load_data_from_file(file_path):\n",
        "    \"\"\"\n",
        "    Load data from a file and process depth data.\n",
        "\n",
        "    Parameters:\n",
        "    - file_path (str): The relative path to the file.\n",
        "\n",
        "    Returns:\n",
        "    dict: A dictionary containing 'rgb', 'depth', 'clean_depth', and 'targets' data.\n",
        "    \"\"\"\n",
        "    full_path = mount_path + '/' + file_path\n",
        "    with open(full_path, \"rb\") as f:\n",
        "        [depthmap_data, rgb_data, segmap_data], targets_lst = pickle.load(f)\n",
        "\n",
        "    clean_depth_data = fill_zeros_inpainting(replace_values_above_threshold_by_zero(depthmap_data, 3.0))\n",
        "    \n",
        "    return {\n",
        "        'rgb': rgb_data,\n",
        "        'depth': np.squeeze(depthmap_data),\n",
        "        'clean_depth': np.squeeze(clean_depth_data),\n",
        "        'targets': targets_lst\n",
        "    }"
      ]
    },
    {
      "cell_type": "code",
      "execution_count": null,
      "metadata": {
        "gather": {
          "logged": 1706591023498
        }
      },
      "outputs": [],
      "source": [
        "def display_image_grid(file_paths, image_width=3, image_height=4, errors=None):\n",
        "    \"\"\"\n",
        "    Display a grid of images and associated details.\n",
        "\n",
        "    Parameters:\n",
        "    - file_paths (list): List of file paths to load data from.\n",
        "    - image_width (int): Width of each image in inches.\n",
        "    - image_height (int): Height of each image in inches.\n",
        "    - errors (list): List of error values for each image (default is None).\n",
        "\n",
        "    Returns:\n",
        "    None\n",
        "    \"\"\"\n",
        "    num_images = len(file_paths)\n",
        "    if errors is None:\n",
        "        errors = [np.nan] * num_images\n",
        "    \n",
        "    # Set the number of images per grid\n",
        "    images_per_grid = min(num_images, 9)\n",
        "    # Calculate the number of grids needed\n",
        "    num_grids = (num_images + images_per_grid - 1) // images_per_grid\n",
        "    \n",
        "    # Set up the matplotlib figure and axes for each grid\n",
        "    for grid_index in range(num_grids):\n",
        "        start_index = grid_index * images_per_grid\n",
        "        end_index = min((grid_index + 1) * images_per_grid, num_images)\n",
        "        \n",
        "        grid_fig, grid_axs = plt.subplots(5, images_per_grid,  \n",
        "                                          figsize=(image_width * images_per_grid, image_height * 5), \n",
        "                                          #subplot_kw={'xticks': [], 'yticks': []},\n",
        "                                          gridspec_kw={'hspace': 0.0, 'wspace': 0.0})\n",
        "        \n",
        "        # Ensure grid_axs is iterable by making it a list if there's only one subplot\n",
        "        grid_axs = grid_axs.T if images_per_grid > 1 else [grid_axs]\n",
        "        \n",
        "        for i, (ax, file_path, err) in enumerate(zip(grid_axs, file_paths[start_index:end_index], errors[start_index:end_index])):\n",
        "            data_dict = load_data_from_file(file_path)\n",
        "\n",
        "            # Display RGB data in the first row\n",
        "            rgb_data = data_dict['rgb']\n",
        "            ax[1].imshow(rgb_data)\n",
        "            ax[1].axis('off')\n",
        "\n",
        "            depth_data = data_dict['depth']\n",
        "            ax[2].imshow(depth_data, cmap='jet', vmin=0, vmax=3)\n",
        "            ax[2].axis('off')\n",
        "            \n",
        "            ax[4].hist(depth_data.flatten(), bins=50, range=(0, 7), color='blue', alpha=0.7, histtype='barstacked')\n",
        "            ax[4].set_ylim([0, 15000])\n",
        "            ax[4].tick_params(axis='x', which='both', bottom=True, top=False, labelbottom=True) \n",
        "            ax[4].tick_params(axis='y', which='both', left=True, right=False, labelleft=True)   \n",
        "\n",
        "            # Display Clean Depth data in the fourth row\n",
        "            clean_depth_data = data_dict['clean_depth']\n",
        "            ax[3].imshow(clean_depth_data, cmap='jet', vmin=0, vmax=3)\n",
        "            ax[3].axis('off')\n",
        "\n",
        "            ax[0].axis('off')\n",
        "            non_zero_depth_values = depth_data[depth_data > 0]\n",
        "            count_above_threshold = np.count_nonzero(non_zero_depth_values > 3.0)\n",
        "            max_depth = np.max(non_zero_depth_values)\n",
        "            min_depth = np.min(non_zero_depth_values)\n",
        "            avg_depth = np.mean(non_zero_depth_values)\n",
        "\n",
        "\n",
        "            overlap = data_dict['targets']['overlap']\n",
        "            \n",
        "            distance_to_child = data_dict['targets']['distance_to_child']\n",
        "            angle = data_dict['targets']['angle']\n",
        "            pose = data_dict['targets']['pose_data'].get('Pose Scores', 'N/A')\n",
        "            pose_score_float = float(pose) if pose != 'N/A' else None\n",
        "\n",
        "            details_text = f\"Error: {err:.2f}\\nMaxDepth: {max_depth:.2f}\\nMinDepth: {min_depth:.2f}\\nAvgDepth: {avg_depth:.2f}\\nCount > 3.0: {count_above_threshold}\\nDistance: {distance_to_child:.2f}\\nAngle: {angle:.2f}\\nOverlap: {overlap:.2f}\\nPoseScore: {pose_score_float:.2f}\"\n",
        "\n",
        "            ax[0].text(0.5, 0.5, details_text, ha='center', va='center', fontsize=18)\n",
        "\n",
        "        plt.tight_layout()\n",
        "        plt.show()\n",
        "\n",
        "        if num_grids > 1:\n",
        "            print(f\"Displaying grid {grid_index + 1} of {num_grids}\")"
      ]
    },
    {
      "cell_type": "code",
      "execution_count": null,
      "metadata": {
        "gather": {
          "logged": 1706591023660
        }
      },
      "outputs": [],
      "source": [
        "def plot_parameter_vs_height(ax, parameter_list, height_list, unique_height, label, min_param=None, max_param=None, min_height=None, max_height=None):\n",
        "    \"\"\"\n",
        "    Plot a scatter plot of a parameter versus predicted and actual heights.\n",
        "\n",
        "    Parameters:\n",
        "    - ax (matplotlib.axes._axes.Axes): Matplotlib Axes object.\n",
        "    - parameter_list (list): List of parameter values.\n",
        "    - height_list (list): List of predicted heights.\n",
        "    - unique_height (float): Actual height value.\n",
        "    - label (str): Label for the x-axis.\n",
        "    - min_param (float): Minimum value for the x-axis (default is None).\n",
        "    - max_param (float): Maximum value for the x-axis (default is None).\n",
        "    - min_height (float): Minimum value for the y-axis (default is None).\n",
        "    - max_height (float): Maximum value for the y-axis (default is None).\n",
        "\n",
        "    Returns:\n",
        "    None\n",
        "    \"\"\"\n",
        "    \n",
        "    # Plotting the predicted height\n",
        "    ax.scatter(parameter_list, height_list, label='P-Height', marker='o', color='red')\n",
        "\n",
        "    # Scatter plot for actual heights\n",
        "    ax.axhline(y=unique_height, color='green', linestyle='solid', label=f'A-Height: {unique_height:.2f}')\n",
        "\n",
        "    # Mark mean, median, q25, and q75 of the parameter list\n",
        "    mean_parameter = np.mean(parameter_list)\n",
        "    median_parameter = np.median(parameter_list)\n",
        "    q25_parameter = np.percentile(parameter_list, 25)\n",
        "    q75_parameter = np.percentile(parameter_list, 75)\n",
        "\n",
        "    ax.axvline(x=mean_parameter, color='purple', linestyle=':', label=f'Mean {label}: {mean_parameter:.2f}')\n",
        "    ax.axvline(x=median_parameter, color='orange', linestyle=':', label=f'Median {label}: {median_parameter:.2f}')\n",
        "    ax.axvline(x=q25_parameter, color='cyan', linestyle=':', label=f'Q25 {label}: {q25_parameter:.2f}')\n",
        "    ax.axvline(x=q75_parameter, color='magenta', linestyle=':', label=f'Q75 {label}: {q75_parameter:.2f}')\n",
        "\n",
        "    # Mark mean and median of predicted heights\n",
        "    mean_predicted_height = np.mean(height_list)\n",
        "    median_predicted_height = np.median(height_list)\n",
        "\n",
        "    ax.axhline(y=mean_predicted_height, color='blue', linestyle='-', label=f'Mean P-Height: {mean_predicted_height:.2f}')\n",
        "    ax.axhline(y=median_predicted_height, color='yellow', linestyle='-', label=f'Median P-Height: {median_predicted_height:.2f}')\n",
        "\n",
        "    ax.set_title(f'{label} vs. Predicted and Actual Height')\n",
        "    ax.set_xlabel(label)\n",
        "    ax.set_ylabel('Height')\n",
        "\n",
        "    # Adjust the position of the legend\n",
        "    ax.legend(loc='upper left', bbox_to_anchor=(0, -0.2))\n",
        "\n",
        "    ax.grid(True)\n",
        "\n",
        "    # Set axis limits if provided\n",
        "    if min_param is not None and max_param is not None:\n",
        "        ax.set_xlim([min_param, max_param])\n",
        "    if min_height is not None and max_height is not None:\n",
        "        ax.set_ylim([min_height, max_height])\n"
      ]
    },
    {
      "cell_type": "code",
      "execution_count": null,
      "metadata": {
        "gather": {
          "logged": 1706591023803
        },
        "jupyter": {
          "outputs_hidden": false,
          "source_hidden": false
        },
        "nteract": {
          "transient": {
            "deleting": false
          }
        }
      },
      "outputs": [],
      "source": [
        "def plot_all_parameters_graph(angle_list, distance_to_child_list, pose_score_list, overlap_list, predicted_height_list, unique_heights):\n",
        "        \"\"\"\n",
        "    Plot multiple parameter versus predicted and actual height graphs in a single figure.\n",
        "\n",
        "    Parameters:\n",
        "    - angle_list (list): List of angle values.\n",
        "    - distance_to_child_list (list): List of distance to child values.\n",
        "    - pose_score_list (list): List of pose score values.\n",
        "    - overlap_list (list): List of overlap values.\n",
        "    - predicted_height_list (list): List of predicted heights.\n",
        "    - unique_heights (float): Actual height value.\n",
        "\n",
        "    Returns:\n",
        "    None\n",
        "    \"\"\"\n",
        "    fig, axs = plt.subplots(1, 4, figsize=(20, 5))\n",
        "    plot_parameter_vs_height(axs[0], angle_list, predicted_height_list, unique_heights, 'Angle')\n",
        "    plot_parameter_vs_height(axs[1], distance_to_child_list, predicted_height_list, unique_heights, 'Distance to Child')\n",
        "    plot_parameter_vs_height(axs[2], pose_score_list, predicted_height_list, unique_heights, 'Pose Score')\n",
        "    plot_parameter_vs_height(axs[3], overlap_list, predicted_height_list, unique_heights, 'Overlap')\n",
        "    plt.subplots_adjust(wspace=0.4)\n",
        "    plt.show()"
      ]
    },
    {
      "cell_type": "code",
      "execution_count": null,
      "metadata": {
        "gather": {
          "logged": 1706591023974
        },
        "jupyter": {
          "outputs_hidden": false,
          "source_hidden": false
        },
        "nteract": {
          "transient": {
            "deleting": false
          }
        }
      },
      "outputs": [],
      "source": [
        "def plot_3d(height_list, angle_list, distance_list, unique_height, actual_height_color='green'):\n",
        "    \"\"\"\n",
        "    Plot a 3D scatter plot of predicted height, angle, and distance to child.\n",
        "\n",
        "    Parameters:\n",
        "    - height_list (list): List of predicted heights.\n",
        "    - angle_list (list): List of angles.\n",
        "    - distance_list (list): List of distances to child.\n",
        "    - unique_height (float): Actual height value (for a horizontal plane).\n",
        "    - actual_height_color (str): Color for the scatter plot of actual height.\n",
        "\n",
        "    Returns:\n",
        "    None\n",
        "    \"\"\"\n",
        "    fig = plt.figure(figsize=(10, 8))\n",
        "    ax = fig.add_subplot(111, projection='3d')\n",
        "    ax.scatter(angle_list, distance_list, height_list, label='Predicted Height', color='red', marker='o')\n",
        "\n",
        "    ax.scatter(angle_list, distance_list, unique_height, label='Actual Height', color=actual_height_color, marker='o')\n",
        "\n",
        "    ax.set_xlabel('Angle')\n",
        "    ax.set_ylabel('Distance to Child')\n",
        "    ax.set_zlabel('Height')\n",
        "    ax.set_title('3D Plot of Height, Angle, and Distance')\n",
        "\n",
        "    ax.legend()\n",
        "    plt.show()\n"
      ]
    },
    {
      "cell_type": "code",
      "execution_count": null,
      "metadata": {
        "gather": {
          "logged": 1706591024124
        },
        "jupyter": {
          "outputs_hidden": false,
          "source_hidden": false
        },
        "nteract": {
          "transient": {
            "deleting": false
          }
        }
      },
      "outputs": [],
      "source": [
        "def plot_contour(height_list, angle_list, distance_list, title='Contour Plot of Height', color_map='viridis'):\n",
        "    \"\"\"\n",
        "    Plots a contour plot for the given height, angle, and distance data.\n",
        "\n",
        "    :param height_list: List or array of height values.\n",
        "    :param angle_list: List or array of angle values.\n",
        "    :param distance_list: List or array of distance values.\n",
        "    :param title: Title for the plot.\n",
        "    :param color_map: Color map for the contour plot.\n",
        "    \"\"\"\n",
        "\n",
        "    xi = np.linspace(min(angle_list), max(angle_list), 100)\n",
        "    yi = np.linspace(min(distance_list), max(distance_list), 100)\n",
        "    xi, yi = np.meshgrid(xi, yi)\n",
        "\n",
        "    zi = griddata((angle_list, distance_list), height_list, (xi, yi), method='cubic')\n",
        "\n",
        "    if np.isnan(zi).any():\n",
        "        zi = np.nan_to_num(zi)\n",
        "\n",
        "    if not np.all(np.isnan(zi)):\n",
        "        plt.figure(figsize=(10, 8))\n",
        "        contour = plt.contourf(xi, yi, zi, levels=np.linspace(np.nanmin(zi), np.nanmax(zi), 100), cmap=color_map)\n",
        "        plt.colorbar(contour)\n",
        "\n",
        "        plt.xlabel('Angle')\n",
        "        plt.ylabel('Distance to Child')\n",
        "        plt.title(title)\n",
        "\n",
        "        plt.show()\n",
        "    else:\n",
        "        print(\"The interpolated data is not valid for contour plotting.\")"
      ]
    },
    {
      "cell_type": "code",
      "execution_count": null,
      "metadata": {
        "gather": {
          "logged": 1706591024267
        },
        "jupyter": {
          "outputs_hidden": false,
          "source_hidden": false
        },
        "nteract": {
          "transient": {
            "deleting": false
          }
        }
      },
      "outputs": [],
      "source": [
        "def plot_3d_surface_with_actuals(predicted_height_list, actual_height_list, angle_list, distance_list, title='3D Surface Plot of Predicted vs Actual Height'):\n",
        "    \"\"\"\n",
        "    Plots a 3D surface plot for the given predicted height and overlays actual height data points, with angle and distance data.\n",
        "\n",
        "    :param predicted_height_list: List or array of predicted height values.\n",
        "    :param actual_height_list: List or array of actual height values.\n",
        "    :param angle_list: List or array of angle values.\n",
        "    :param distance_list: List or array of distance values.\n",
        "    :param title: Title for the plot.\n",
        "    \"\"\"\n",
        "    fig = plt.figure(figsize=(10, 8))\n",
        "    ax = fig.add_subplot(111, projection='3d')\n",
        "\n",
        "    xi = np.linspace(min(angle_list), max(angle_list), len(np.unique(angle_list)))\n",
        "    yi = np.linspace(min(distance_list), max(distance_list), len(np.unique(distance_list)))\n",
        "    xi, yi = np.meshgrid(xi, yi)\n",
        "\n",
        "    zi = griddata((angle_list, distance_list), predicted_height_list, (xi, yi), method='linear')\n",
        "\n",
        "    mask = ~np.isnan(zi)\n",
        "    xi, yi, zi = xi[mask], yi[mask], zi[mask]\n",
        "\n",
        "    surface = ax.plot_trisurf(xi, yi, zi, cmap='viridis', alpha=0.7)\n",
        "\n",
        "    ax.scatter(angle_list, distance_list, actual_height_list, color='red', label='Actual Height')\n",
        "\n",
        "    ax.set_xlabel('Angle')\n",
        "    ax.set_ylabel('Distance to Child')\n",
        "    ax.set_zlabel('Predicted Height')\n",
        "    ax.set_title(title)\n",
        "\n",
        "    ax.legend()\n",
        "\n",
        "    fig.colorbar(surface, shrink=0.5, aspect=5)\n",
        "\n",
        "    plt.show()"
      ]
    },
    {
      "cell_type": "markdown",
      "metadata": {
        "nteract": {
          "transient": {
            "deleting": false
          }
        }
      },
      "source": [
        "## View filtered images in Grid (set of artifacts)"
      ]
    },
    {
      "cell_type": "code",
      "execution_count": null,
      "metadata": {
        "gather": {
          "logged": 1706591029979
        }
      },
      "outputs": [],
      "source": [
        "single_scan = filtered_test_df.tail(9).copy()\n",
        "single_path = single_scan['pickle_file_path'].tolist()\n",
        "errors_list = single_scan['errors'].tolist()\n",
        "scan_id_list = single_scan['scan_id'].tolist()\n",
        "print(scan_id_list)\n",
        "display_image_grid(single_path, errors= errors_list)"
      ]
    },
    {
      "cell_type": "markdown",
      "metadata": {
        "nteract": {
          "transient": {
            "deleting": false
          }
        }
      },
      "source": [
        "## View all images at child level and analyze"
      ]
    },
    {
      "cell_type": "code",
      "execution_count": null,
      "metadata": {
        "gather": {
          "logged": 1706591030156
        },
        "jupyter": {
          "outputs_hidden": false,
          "source_hidden": false
        },
        "nteract": {
          "transient": {
            "deleting": false
          }
        }
      },
      "outputs": [],
      "source": [
        "unique_person_ids_filtered = filtered_test_df['person_id'].unique()\n",
        "len(unique_person_ids_filtered)"
      ]
    },
    {
      "cell_type": "code",
      "execution_count": null,
      "metadata": {
        "gather": {
          "logged": 1706591030352
        },
        "jupyter": {
          "outputs_hidden": false,
          "source_hidden": false
        },
        "nteract": {
          "transient": {
            "deleting": false
          }
        }
      },
      "outputs": [],
      "source": [
        "pid = unique_person_ids_filtered[50] #Change the person_id here\n",
        "single_child = test_df[test_df['person_id']==pid]\n",
        "unique_scan_ids = single_child['scan_id'].unique()"
      ]
    },
    {
      "cell_type": "code",
      "execution_count": null,
      "metadata": {
        "gather": {
          "logged": 1706591056030
        }
      },
      "outputs": [],
      "source": [
        "print(f\"\\nperson_id: {pid}\")\n",
        "for scan_id in unique_scan_ids:\n",
        "    print(f\"scan_id: {scan_id}\")\n",
        "    single_scan = test_df[test_df['scan_id'] == scan_id]\n",
        "    unique_heights = single_scan['height'].unique()[0]\n",
        "    print(f\"Height: {unique_heights}\")\n",
        "    single_path = single_scan['pickle_file_path'].tolist()\n",
        "    errors_list = single_scan['errors'].tolist()\n",
        "    angle_list = single_scan['angle'].tolist()\n",
        "    distance_to_child_list = single_scan['distance_to_child'].tolist()\n",
        "    predicted_height_list = single_scan['predicted_height'].tolist()\n",
        "    pose_score_list = single_scan['pose_score'].tolist()\n",
        "    overlap_list = single_scan['overlap'].tolist()\n",
        "    height_list = single_scan['height'].tolist()\n",
        "    \n",
        "    display_image_grid(single_path, errors= errors_list)\n",
        "\n",
        "    plot_all_parameters_graph(angle_list, distance_to_child_list, pose_score_list, overlap_list, predicted_height_list, unique_heights)\n",
        "\n",
        "    #plot_3d(predicted_height_list, angle_list, distance_to_child_list, height_list, actual_height_color='green')\n",
        "    \n",
        "    #plot_3d_surface_with_actuals(predicted_height_list, height_list, angle_list, distance_to_child_list)"
      ]
    },
    {
      "cell_type": "markdown",
      "metadata": {
        "nteract": {
          "transient": {
            "deleting": false
          }
        }
      },
      "source": [
        "## Unmount Dataset"
      ]
    },
    {
      "cell_type": "code",
      "execution_count": null,
      "metadata": {
        "gather": {
          "logged": 1706591056239
        }
      },
      "outputs": [],
      "source": [
        "mount_ctx.stop()"
      ]
    }
  ],
  "metadata": {
    "kernel_info": {
      "name": "python38-azureml"
    },
    "kernelspec": {
      "display_name": "Python 3.8 - AzureML",
      "language": "python",
      "name": "python38-azureml"
    },
    "language_info": {
      "codemirror_mode": {
        "name": "ipython",
        "version": 3
      },
      "file_extension": ".py",
      "mimetype": "text/x-python",
      "name": "python",
      "nbconvert_exporter": "python",
      "pygments_lexer": "ipython3",
      "version": "3.8.5"
    },
    "microsoft": {
      "host": {
        "AzureML": {
          "notebookHasBeenCompleted": true
        }
      },
      "ms_spell_check": {
        "ms_spell_check_language": "en"
      }
    },
    "nteract": {
      "version": "nteract-front-end@1.0.0"
    }
  },
  "nbformat": 4,
  "nbformat_minor": 2
}
