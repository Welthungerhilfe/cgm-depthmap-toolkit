{
  "cells": [
    {
      "cell_type": "code",
      "execution_count": null,
      "metadata": {
        "gather": {
          "logged": 1720000537834
        },
        "jupyter": {
          "outputs_hidden": false,
          "source_hidden": false
        },
        "nteract": {
          "transient": {
            "deleting": false
          }
        }
      },
      "outputs": [],
      "source": [
        "#!pip install torch torchvision torchaudio\n",
        "#!pip install scikit-image"
      ]
    },
    {
      "cell_type": "code",
      "execution_count": null,
      "metadata": {
        "gather": {
          "logged": 1720000549709
        }
      },
      "outputs": [],
      "source": [
        "import zipfile\n",
        "import os\n",
        "import tempfile\n",
        "import numpy as np\n",
        "import matplotlib.pyplot as plt\n",
        "\n",
        "from PIL import Image \n",
        "from tabulate import tabulate\n",
        "from io import BytesIO\n",
        "from zipfile import ZipFile\n",
        "\n",
        "import torch\n",
        "import torchvision.transforms as T\n",
        "from torchvision.models.segmentation import deeplabv3_resnet101"
      ]
    },
    {
      "cell_type": "code",
      "execution_count": null,
      "metadata": {
        "gather": {
          "logged": 1720000552196
        },
        "jupyter": {
          "outputs_hidden": false,
          "source_hidden": false
        },
        "nteract": {
          "transient": {
            "deleting": false
          }
        }
      },
      "outputs": [],
      "source": [
        "def extract_depthmap(zip_fpath, extract_dir):\n",
        "    \"\"\"\n",
        "    Extracts the depth map file from the zip archive.\n",
        "    \"\"\"\n",
        "    with ZipFile(zip_fpath, 'r') as zip_ref:\n",
        "        zip_ref.extractall(extract_dir)\n",
        "    extracted_files = os.listdir(extract_dir)\n",
        "    return os.path.join(extract_dir, extracted_files[0])\n",
        "\n",
        "def parse_header(header_line):\n",
        "    \"\"\"\n",
        "    Parses the header line to extract width, height, depth scale, max confidence, and device pose.\n",
        "    \"\"\"\n",
        "    parts = header_line.split('_')\n",
        "    width, height = map(int, parts[0].split('x'))\n",
        "    depth_scale = float(parts[1])\n",
        "    max_confidence = int(parts[2])\n",
        "    device_pose = tuple(map(float, parts[3:]))\n",
        "    return width, height, depth_scale, max_confidence, device_pose\n",
        "\n",
        "def read_depthmap_data(depthmap_fpath):\n",
        "    with tempfile.TemporaryDirectory() as tmpdirname:\n",
        "        path = extract_depthmap(depthmap_fpath, tmpdirname)\n",
        "        with open(path, 'rb') as f:\n",
        "            header_line = f.readline().decode().strip()\n",
        "            width, height, depth_scale, max_confidence, device_pose = parse_header(header_line)\n",
        "            data = f.read()\n",
        "            f.close()\n",
        "    return width, height, data, depth_scale, max_confidence, device_pose, header_line\n",
        "\n",
        "def parse_depth_data(data, width, height, depth_scale) -> np.ndarray:\n",
        "    output = np.zeros((height, width))\n",
        "    for x in range(width):\n",
        "        for y in range(height):\n",
        "            output[y, x] = parse_depth(data, x, y, width, height, depth_scale)\n",
        "    return output\n",
        "\n",
        "def parse_depth(data: bytes, tx: int, ty: int, width, height, depth_scale) -> float:\n",
        "    \"\"\"Get depth of the point in meters\"\"\"\n",
        "    if tx < 1 or ty < 1 or tx >= width or ty >= height:\n",
        "        return 0.\n",
        "    index = height - int(ty) - 1\n",
        "    depth = data[(index * width + int(tx)) * 3 + 0] << 8\n",
        "    depth += data[(index * width + int(tx)) * 3 + 1]\n",
        "    depth *= depth_scale\n",
        "    return depth\n",
        "\n",
        "def read_rgb_data(rgb_fpath):\n",
        "        if rgb_fpath:\n",
        "            pil_im = Image.open(rgb_fpath)\n",
        "            pil_im = pil_im.rotate(-90, expand=True)\n",
        "            rgb_height, rgb_width = pil_im.width, pil_im.height  # Weird switch\n",
        "            #assert rgb_width / width == rgb_height / height, f'{rgb_width} / {width} != {rgb_height} / {height}'\n",
        "            #pil_im = pil_im.resize((height, width), Image.ANTIALIAS)\n",
        "            rgb_array = np.asarray(pil_im)\n",
        "        else:\n",
        "            rgb_array = None\n",
        "        return rgb_array"
      ]
    },
    {
      "cell_type": "code",
      "execution_count": null,
      "metadata": {
        "gather": {
          "logged": 1720000552389
        },
        "jupyter": {
          "outputs_hidden": false,
          "source_hidden": false
        },
        "nteract": {
          "transient": {
            "deleting": false
          }
        }
      },
      "outputs": [],
      "source": [
        "def plot_depth_and_rgb(depth_img, rgb_img, bmask):\n",
        "    \"\"\"\n",
        "    Plot depth map, RGB image, and binary mask side by side.\n",
        "\n",
        "    Args:\n",
        "    - depth_img (numpy.ndarray): The depth map.\n",
        "    - rgb_img (numpy.ndarray): The RGB image.\n",
        "    - bmask (numpy.ndarray): The binary mask.\n",
        "\n",
        "    Returns:\n",
        "    - None\n",
        "    \"\"\"\n",
        "    # Create a figure and subplots\n",
        "    fig, axs = plt.subplots(1, 3, figsize=(15, 8))\n",
        "\n",
        "    # Plot RGB image in the second column\n",
        "    axs[1].imshow(rgb_img)\n",
        "    axs[1].set_title('RGB Image')\n",
        "    axs[1].set_xlabel('Width (pixels)')\n",
        "    axs[1].set_ylabel('Height (pixels)')\n",
        "\n",
        "    # Plot depth map in the first column\n",
        "    im = axs[0].imshow(depth_img, cmap='jet', vmin=0, vmax=3)\n",
        "    axs[0].set_title('Depth Map')\n",
        "    axs[0].set_xlabel('Width (pixels)')\n",
        "    axs[0].set_ylabel('Height (pixels)')\n",
        "    #plt.colorbar(im, ax=axs[0], label='Depth (meters)')\n",
        "\n",
        "    # Plot binary mask in the third column\n",
        "    axs[2].imshow(bmask, cmap='gray')\n",
        "    axs[2].set_title('Binary Mask')\n",
        "    axs[2].set_xlabel('Width (pixels)')\n",
        "    axs[2].set_ylabel('Height (pixels)')\n",
        "\n",
        "    plt.tight_layout()\n",
        "    plt.show()"
      ]
    },
    {
      "cell_type": "code",
      "execution_count": null,
      "metadata": {
        "gather": {
          "logged": 1720000552569
        },
        "jupyter": {
          "outputs_hidden": false,
          "source_hidden": false
        },
        "nteract": {
          "transient": {
            "deleting": false
          }
        }
      },
      "outputs": [],
      "source": [
        "def segment_rgb_image(rgb_image, threshold=0.5):\n",
        "    # Load the pre-trained DeepLabV3 model\n",
        "    model = deeplabv3_resnet101(pretrained=True)\n",
        "    model.eval()\n",
        "\n",
        "    # Preprocess the image\n",
        "    transform = T.Compose([\n",
        "        T.ToTensor(),\n",
        "        T.Normalize(mean=[0.485, 0.456, 0.406], std=[0.229, 0.224, 0.225]),\n",
        "    ])\n",
        "    input_image = transform(rgb_image).unsqueeze(0)\n",
        "\n",
        "    with torch.no_grad():\n",
        "        # Make predictions\n",
        "        predictions = model(input_image)['out'][0]\n",
        "\n",
        "    # Apply a threshold and convert to NumPy array\n",
        "    binary_mask = (predictions.argmax(0) > threshold).cpu().numpy()\n",
        "\n",
        "    return binary_mask\n",
        "\n",
        "def plot_segmented_rgb_and_depth(rgb_img, depth_img, bmask):\n",
        "    \"\"\"\n",
        "    Plot segmented RGB image and segmented depth map side by side.\n",
        "\n",
        "    Args:\n",
        "    - rgb_img (numpy.ndarray): The RGB image.\n",
        "    - depth_img (numpy.ndarray): The depth map.\n",
        "    - bmask (numpy.ndarray): The binary mask.\n",
        "\n",
        "    Returns:\n",
        "    - segmented_rgb_img (numpy.ndarray): Segmented RGB image with the mask applied.\n",
        "    - segmented_depth_img (numpy.ndarray): Segmented depth map with the mask applied.\n",
        "    \"\"\"\n",
        "    # Apply binary mask to RGB image\n",
        "    segmented_rgb_img = rgb_img.copy()\n",
        "    segmented_rgb_img[bmask == 0] = 0\n",
        "\n",
        "    # Apply binary mask to depth map\n",
        "    segmented_depth_img = depth_img.copy()\n",
        "    segmented_depth_img[bmask == 0] = 0\n",
        "\n",
        "    # Create a figure and subplots\n",
        "    fig, axs = plt.subplots(1, 2, figsize=(12, 6))\n",
        "\n",
        "    # Plot segmented RGB image in the first column\n",
        "    axs[0].imshow(segmented_rgb_img)\n",
        "    axs[0].set_title('Segmented RGB Image')\n",
        "    axs[0].set_xlabel('Width (pixels)')\n",
        "    axs[0].set_ylabel('Height (pixels)')\n",
        "\n",
        "    # Plot segmented depth map in the second column\n",
        "    im = axs[1].imshow(segmented_depth_img, cmap='jet', vmin=0, vmax=3)\n",
        "    axs[1].set_title('Segmented Depth Map')\n",
        "    axs[1].set_xlabel('Width (pixels)')\n",
        "    axs[1].set_ylabel('Height (pixels)')\n",
        "    plt.colorbar(im, ax=axs[1], label='Depth (meters)')\n",
        "\n",
        "    plt.tight_layout()\n",
        "    plt.show()\n",
        "\n",
        "    return segmented_rgb_img, segmented_depth_img"
      ]
    },
    {
      "cell_type": "code",
      "execution_count": null,
      "metadata": {
        "gather": {
          "logged": 1720000560209
        },
        "jupyter": {
          "outputs_hidden": false,
          "source_hidden": false
        },
        "nteract": {
          "transient": {
            "deleting": false
          }
        }
      },
      "outputs": [],
      "source": [
        "local_zip_path = 'scans_realsence_direct_new/a58f8226-347a-11ef-bdc2-ff2dff52e82b/depth/2'\n",
        "rgb_file_path = 'scans_realsence_direct_new/a58f8226-347a-11ef-bdc2-ff2dff52e82b/rgb/2'\n",
        "\n",
        "# Open the local zip file\n",
        "with ZipFile(local_zip_path, 'r') as zipfile:\n",
        "    with zipfile.open('data') as f:\n",
        "        # Example for a first_line: '180x135_0.001_7_0.57045287_-0.0057296_0.0022602521_0.82130724_-0.059177425_0.0024800065_0.030834956'\n",
        "        first_line = f.readline().decode().strip()\n",
        "\n",
        "        file_header = first_line.split(\"_\")\n",
        "\n",
        "        # header[0] example: 180x135\n",
        "        width, height = file_header[0].split(\"x\")\n",
        "        width, height = int(width), int(height)\n",
        "        #width, height =  1280, 720\n",
        "        depth_scale = float(file_header[1])\n",
        "        max_confidence = float(file_header[2])\n",
        "\n",
        "        depth_data = f.read()\n",
        "\n",
        "# Convert the depth data from bytes to a numpy array and reshape it\n",
        "depth = np.frombuffer(depth_data, dtype=np.uint16).reshape(height, width)\n",
        "depth = np.rot90(depth, k=-1)\n",
        "depth = depth * depth_scale\n",
        "rgb = read_rgb_data(rgb_file_path)\n",
        "\n",
        "print(f\"Width: {width}, Height: {height}\")\n",
        "print(f\"Depth Scale: {depth_scale}\")\n",
        "print(f\"Max Confidence: {max_confidence}\")\n",
        "print(f\"Depth Data Array:\\n{depth}\")\n",
        "seg_origin = segment_rgb_image(rgb)\n",
        "bmask_origin = (seg_origin != 0).astype(np.uint8)"
      ]
    },
    {
      "cell_type": "code",
      "execution_count": null,
      "metadata": {
        "gather": {
          "logged": 1720000561735
        },
        "jupyter": {
          "outputs_hidden": false,
          "source_hidden": false
        },
        "nteract": {
          "transient": {
            "deleting": false
          }
        }
      },
      "outputs": [],
      "source": [
        "plot_depth_and_rgb(depth, rgb, bmask_origin)\n",
        "segmented_rgb, segmented_depth = plot_segmented_rgb_and_depth(rgb, depth, bmask_origin)"
      ]
    },
    {
      "cell_type": "code",
      "execution_count": null,
      "metadata": {
        "gather": {
          "logged": 1720000568650
        },
        "jupyter": {
          "outputs_hidden": false,
          "source_hidden": false
        },
        "nteract": {
          "transient": {
            "deleting": false
          }
        }
      },
      "outputs": [],
      "source": [
        "depth_file_path = 'scans_realsence_align/348bc7e0-2982-11ef-a860-fbf9155790cc/depth/4'\n",
        "rgb_file_path = 'scans_realsence_align/348bc7e0-2982-11ef-a860-fbf9155790cc/rgb/4'\n",
        "\n",
        "width, height, data, depth_scale, max_confidence, device_pose, header_line = read_depthmap_data(depth_file_path)\n",
        "rgb_lubo = read_rgb_data(rgb_file_path)\n",
        "\n",
        "# Display the results\n",
        "print(\"Width:\", width)\n",
        "print(\"Height:\", height)\n",
        "print(\"Depth Scale:\", depth_scale)\n",
        "print(\"Max Confidence:\", max_confidence)\n",
        "print(\"Device Pose:\", device_pose)\n",
        "print(\"Header Line:\", header_line)\n",
        "\n",
        "# Parse the depth data\n",
        "depth_lubo = parse_depth_data(data, width, height, depth_scale)\n",
        "depth_lubo = np.rot90(depth_lubo, k=-1)\n",
        "depth_lubo = depth_lubo[:, ::-1] \n",
        "seg_lubo = segment_rgb_image(rgb_lubo)\n",
        "bmask_lubo = (seg_lubo != 0).astype(np.uint8)"
      ]
    },
    {
      "cell_type": "code",
      "execution_count": null,
      "metadata": {
        "gather": {
          "logged": 1720000693035
        },
        "jupyter": {
          "outputs_hidden": false,
          "source_hidden": false
        },
        "nteract": {
          "transient": {
            "deleting": false
          }
        }
      },
      "outputs": [],
      "source": [
        "plot_depth_and_rgb(depth_lubo, rgb_lubo, bmask_lubo)\n",
        "segmented_rgb_lubo, segmented_depth_lubo = plot_segmented_rgb_and_depth(rgb_lubo, depth_lubo, bmask_lubo)"
      ]
    }
  ],
  "metadata": {
    "kernel_info": {
      "name": "python38-azureml"
    },
    "kernelspec": {
      "display_name": "Python 3.8 - AzureML",
      "language": "python",
      "name": "python38-azureml"
    },
    "language_info": {
      "codemirror_mode": {
        "name": "ipython",
        "version": 3
      },
      "file_extension": ".py",
      "mimetype": "text/x-python",
      "name": "python",
      "nbconvert_exporter": "python",
      "pygments_lexer": "ipython3",
      "version": "3.9.19"
    },
    "microsoft": {
      "host": {
        "AzureML": {
          "notebookHasBeenCompleted": true
        }
      },
      "ms_spell_check": {
        "ms_spell_check_language": "en"
      }
    },
    "nteract": {
      "version": "nteract-front-end@1.0.0"
    },
    "widgets": {
      "application/vnd.jupyter.widget-state+json": {
        "state": {
          "1bf1354886344f738a454d2580628485": {
            "model_module": "@jupyter-widgets/base",
            "model_module_version": "1.2.0",
            "model_name": "LayoutModel",
            "state": {
              "_model_module": "@jupyter-widgets/base",
              "_model_module_version": "1.2.0",
              "_model_name": "LayoutModel",
              "_view_count": null,
              "_view_module": "@jupyter-widgets/base",
              "_view_module_version": "1.2.0",
              "_view_name": "LayoutView",
              "align_content": null,
              "align_items": null,
              "align_self": null,
              "border": null,
              "border_bottom": null,
              "border_left": null,
              "border_right": null,
              "border_top": null,
              "bottom": null,
              "display": null,
              "flex": null,
              "flex_flow": null,
              "grid_area": null,
              "grid_auto_columns": null,
              "grid_auto_flow": null,
              "grid_auto_rows": null,
              "grid_column": null,
              "grid_gap": null,
              "grid_row": null,
              "grid_template_areas": null,
              "grid_template_columns": null,
              "grid_template_rows": null,
              "height": null,
              "justify_content": null,
              "justify_items": null,
              "left": null,
              "margin": null,
              "max_height": null,
              "max_width": null,
              "min_height": null,
              "min_width": null,
              "object_fit": null,
              "object_position": null,
              "order": null,
              "overflow": null,
              "overflow_x": null,
              "overflow_y": null,
              "padding": null,
              "right": null,
              "top": null,
              "visibility": null,
              "width": null
            }
          },
          "460051e43caa4cf1ab524f0766fa7a44": {
            "model_module": "@jupyter-widgets/controls",
            "model_module_version": "1.5.0",
            "model_name": "DescriptionStyleModel",
            "state": {
              "_model_module": "@jupyter-widgets/controls",
              "_model_module_version": "1.5.0",
              "_model_name": "DescriptionStyleModel",
              "_view_count": null,
              "_view_module": "@jupyter-widgets/base",
              "_view_module_version": "1.2.0",
              "_view_name": "StyleView",
              "description_width": ""
            }
          },
          "53e22e6d96eb40bc82365156a2b202f5": {
            "model_module": "@jupyter-widgets/base",
            "model_module_version": "1.2.0",
            "model_name": "LayoutModel",
            "state": {
              "_model_module": "@jupyter-widgets/base",
              "_model_module_version": "1.2.0",
              "_model_name": "LayoutModel",
              "_view_count": null,
              "_view_module": "@jupyter-widgets/base",
              "_view_module_version": "1.2.0",
              "_view_name": "LayoutView",
              "align_content": null,
              "align_items": null,
              "align_self": null,
              "border": null,
              "border_bottom": null,
              "border_left": null,
              "border_right": null,
              "border_top": null,
              "bottom": null,
              "display": null,
              "flex": null,
              "flex_flow": null,
              "grid_area": null,
              "grid_auto_columns": null,
              "grid_auto_flow": null,
              "grid_auto_rows": null,
              "grid_column": null,
              "grid_gap": null,
              "grid_row": null,
              "grid_template_areas": null,
              "grid_template_columns": null,
              "grid_template_rows": null,
              "height": null,
              "justify_content": null,
              "justify_items": null,
              "left": null,
              "margin": null,
              "max_height": null,
              "max_width": null,
              "min_height": null,
              "min_width": null,
              "object_fit": null,
              "object_position": null,
              "order": null,
              "overflow": null,
              "overflow_x": null,
              "overflow_y": null,
              "padding": null,
              "right": null,
              "top": null,
              "visibility": null,
              "width": null
            }
          },
          "6276faada0e645beb5cd2862622fab5d": {
            "model_module": "@jupyter-widgets/controls",
            "model_module_version": "1.5.0",
            "model_name": "DescriptionStyleModel",
            "state": {
              "_model_module": "@jupyter-widgets/controls",
              "_model_module_version": "1.5.0",
              "_model_name": "DescriptionStyleModel",
              "_view_count": null,
              "_view_module": "@jupyter-widgets/base",
              "_view_module_version": "1.2.0",
              "_view_name": "StyleView",
              "description_width": ""
            }
          },
          "9ab476b27c244ef3b737f140163d1d11": {
            "model_module": "@jupyter-widgets/base",
            "model_module_version": "1.2.0",
            "model_name": "LayoutModel",
            "state": {
              "_model_module": "@jupyter-widgets/base",
              "_model_module_version": "1.2.0",
              "_model_name": "LayoutModel",
              "_view_count": null,
              "_view_module": "@jupyter-widgets/base",
              "_view_module_version": "1.2.0",
              "_view_name": "LayoutView",
              "align_content": null,
              "align_items": null,
              "align_self": null,
              "border": null,
              "border_bottom": null,
              "border_left": null,
              "border_right": null,
              "border_top": null,
              "bottom": null,
              "display": null,
              "flex": null,
              "flex_flow": null,
              "grid_area": null,
              "grid_auto_columns": null,
              "grid_auto_flow": null,
              "grid_auto_rows": null,
              "grid_column": null,
              "grid_gap": null,
              "grid_row": null,
              "grid_template_areas": null,
              "grid_template_columns": null,
              "grid_template_rows": null,
              "height": null,
              "justify_content": null,
              "justify_items": null,
              "left": null,
              "margin": null,
              "max_height": null,
              "max_width": null,
              "min_height": null,
              "min_width": null,
              "object_fit": null,
              "object_position": null,
              "order": null,
              "overflow": null,
              "overflow_x": null,
              "overflow_y": null,
              "padding": null,
              "right": null,
              "top": null,
              "visibility": null,
              "width": null
            }
          },
          "c27d7bf7212842999c0c3d705ef5328d": {
            "model_module": "@jupyter-widgets/controls",
            "model_module_version": "1.5.0",
            "model_name": "ProgressStyleModel",
            "state": {
              "_model_module": "@jupyter-widgets/controls",
              "_model_module_version": "1.5.0",
              "_model_name": "ProgressStyleModel",
              "_view_count": null,
              "_view_module": "@jupyter-widgets/base",
              "_view_module_version": "1.2.0",
              "_view_name": "StyleView",
              "bar_color": null,
              "description_width": ""
            }
          },
          "d1db28956cc241d2bb543eebff0e3023": {
            "model_module": "@jupyter-widgets/controls",
            "model_module_version": "1.5.0",
            "model_name": "HTMLModel",
            "state": {
              "_dom_classes": [],
              "_model_module": "@jupyter-widgets/controls",
              "_model_module_version": "1.5.0",
              "_model_name": "HTMLModel",
              "_view_count": null,
              "_view_module": "@jupyter-widgets/controls",
              "_view_module_version": "1.5.0",
              "_view_name": "HTMLView",
              "description": "",
              "description_allow_html": false,
              "description_tooltip": null,
              "disabled": false,
              "layout": "IPY_MODEL_9ab476b27c244ef3b737f140163d1d11",
              "placeholder": "​",
              "style": "IPY_MODEL_460051e43caa4cf1ab524f0766fa7a44",
              "tabbable": null,
              "tooltip": null,
              "value": "100%"
            }
          },
          "d89b2d26f161428ab1ada8424b6b01d8": {
            "model_module": "@jupyter-widgets/base",
            "model_module_version": "1.2.0",
            "model_name": "LayoutModel",
            "state": {
              "_model_module": "@jupyter-widgets/base",
              "_model_module_version": "1.2.0",
              "_model_name": "LayoutModel",
              "_view_count": null,
              "_view_module": "@jupyter-widgets/base",
              "_view_module_version": "1.2.0",
              "_view_name": "LayoutView",
              "align_content": null,
              "align_items": null,
              "align_self": null,
              "border": null,
              "border_bottom": null,
              "border_left": null,
              "border_right": null,
              "border_top": null,
              "bottom": null,
              "display": null,
              "flex": null,
              "flex_flow": null,
              "grid_area": null,
              "grid_auto_columns": null,
              "grid_auto_flow": null,
              "grid_auto_rows": null,
              "grid_column": null,
              "grid_gap": null,
              "grid_row": null,
              "grid_template_areas": null,
              "grid_template_columns": null,
              "grid_template_rows": null,
              "height": null,
              "justify_content": null,
              "justify_items": null,
              "left": null,
              "margin": null,
              "max_height": null,
              "max_width": null,
              "min_height": null,
              "min_width": null,
              "object_fit": null,
              "object_position": null,
              "order": null,
              "overflow": null,
              "overflow_x": null,
              "overflow_y": null,
              "padding": null,
              "right": null,
              "top": null,
              "visibility": null,
              "width": null
            }
          },
          "e9b6aafd50024eeda94a9a7ef2f9afaf": {
            "model_module": "@jupyter-widgets/controls",
            "model_module_version": "1.5.0",
            "model_name": "HBoxModel",
            "state": {
              "_dom_classes": [],
              "_model_module": "@jupyter-widgets/controls",
              "_model_module_version": "1.5.0",
              "_model_name": "HBoxModel",
              "_view_count": null,
              "_view_module": "@jupyter-widgets/controls",
              "_view_module_version": "1.5.0",
              "_view_name": "HBoxView",
              "box_style": "",
              "children": [
                "IPY_MODEL_d1db28956cc241d2bb543eebff0e3023",
                "IPY_MODEL_fe8df8f823404106b111b7eaaa3e6a4e",
                "IPY_MODEL_f11460ad5ca5429995ed1e8e2b173c15"
              ],
              "layout": "IPY_MODEL_53e22e6d96eb40bc82365156a2b202f5",
              "tabbable": null,
              "tooltip": null
            }
          },
          "f11460ad5ca5429995ed1e8e2b173c15": {
            "model_module": "@jupyter-widgets/controls",
            "model_module_version": "1.5.0",
            "model_name": "HTMLModel",
            "state": {
              "_dom_classes": [],
              "_model_module": "@jupyter-widgets/controls",
              "_model_module_version": "1.5.0",
              "_model_name": "HTMLModel",
              "_view_count": null,
              "_view_module": "@jupyter-widgets/controls",
              "_view_module_version": "1.5.0",
              "_view_name": "HTMLView",
              "description": "",
              "description_allow_html": false,
              "description_tooltip": null,
              "disabled": false,
              "layout": "IPY_MODEL_1bf1354886344f738a454d2580628485",
              "placeholder": "​",
              "style": "IPY_MODEL_6276faada0e645beb5cd2862622fab5d",
              "tabbable": null,
              "tooltip": null,
              "value": " 233M/233M [00:00&lt;00:00, 289MB/s]"
            }
          },
          "fe8df8f823404106b111b7eaaa3e6a4e": {
            "model_module": "@jupyter-widgets/controls",
            "model_module_version": "1.5.0",
            "model_name": "FloatProgressModel",
            "state": {
              "_dom_classes": [],
              "_model_module": "@jupyter-widgets/controls",
              "_model_module_version": "1.5.0",
              "_model_name": "FloatProgressModel",
              "_view_count": null,
              "_view_module": "@jupyter-widgets/controls",
              "_view_module_version": "1.5.0",
              "_view_name": "ProgressView",
              "bar_style": "success",
              "description": "",
              "description_allow_html": false,
              "description_tooltip": null,
              "layout": "IPY_MODEL_d89b2d26f161428ab1ada8424b6b01d8",
              "max": 244545539,
              "min": 0,
              "orientation": "horizontal",
              "style": "IPY_MODEL_c27d7bf7212842999c0c3d705ef5328d",
              "tabbable": null,
              "tooltip": null,
              "value": 244545539
            }
          }
        },
        "version_major": 2,
        "version_minor": 0
      }
    }
  },
  "nbformat": 4,
  "nbformat_minor": 2
}
