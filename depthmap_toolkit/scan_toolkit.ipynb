{
 "cells": [
  {
   "cell_type": "code",
   "execution_count": null,
   "source": [
    "%reload_ext autoreload\n",
    "%autoreload 2\n",
    "\n",
    "import os\n",
    "import shutil\n",
    "from pathlib import Path\n",
    "from typing import List\n",
    "\n",
    "%matplotlib inline\n",
    "import matplotlib.pyplot as plt\n",
    "from matplotlib.widgets import Button\n",
    "import numpy as np\n",
    "from ipywidgets import interact, Layout\n",
    "import ipywidgets as widgets\n",
    "from IPython.display import display\n",
    "from tqdm import tqdm\n",
    "\n",
    "from visualisation import render_plot\n",
    "from exporter import export_obj\n",
    "from depthmap import Depthmap"
   ],
   "outputs": [],
   "metadata": {}
  },
  {
   "cell_type": "code",
   "execution_count": null,
   "source": [
    "TOOLKIT_DIR = Path(os.getcwd()).absolute()\n",
    "TOOLKIT_DIR"
   ],
   "outputs": [],
   "metadata": {}
  },
  {
   "cell_type": "code",
   "execution_count": null,
   "source": [
    "depthmap_dir = TOOLKIT_DIR / 'tests' / 'huawei_p40pro'\n",
    "depthmap_fname = 'depth_dog_1622182020448_100_282.depth'\n",
    "rgb_fname = 'rgb_dog_1622182020448_100_282.jpg'\n",
    "calibration_file = TOOLKIT_DIR / 'tests' / 'huawei_p40pro' / 'camera_calibration.txt'"
   ],
   "outputs": [],
   "metadata": {}
  },
  {
   "cell_type": "code",
   "execution_count": null,
   "source": [
    "def check_depthmap_and_rgb_frames_are_in_same_order(depthmap_fnames: List[str], rgb_fnames: List[str]):\n",
    "    for depthmap_fname, rgb_fname in zip(depthmap_fnames, rgb_fnames):\n",
    "        assert depthmap_fname.startswith('depth')\n",
    "        assert rgb_fname.startswith('rgb')\n",
    "        assert depthmap_fname.endswith('.depth')\n",
    "        assert rgb_fname.endswith('.jpg')\n",
    "\n",
    "        _depthmap_fname = depthmap_fname.replace('depth_', '', 1)\n",
    "        _rgb_fname = rgb_fname.replace('rgb_', '', 1)\n",
    "        _depthmap_fname = _depthmap_fname.split('.')[0]\n",
    "        _rgb_fname = _rgb_fname.split('.')[0]\n",
    "\n",
    "        assert _depthmap_fname == _rgb_fname, (_depthmap_fname, _rgb_fname)"
   ],
   "outputs": [],
   "metadata": {}
  },
  {
   "cell_type": "code",
   "execution_count": null,
   "source": [
    "depthmap_fnames = sorted(map(lambda x: x.name, depthmap_dir.rglob('*.depth')))\n",
    "rgb_fnames = sorted(map(lambda x: x.name, depthmap_dir.rglob('*.jpg')))\n",
    "check_depthmap_and_rgb_frames_are_in_same_order(depthmap_fnames, rgb_fnames)"
   ],
   "outputs": [],
   "metadata": {}
  },
  {
   "cell_type": "code",
   "execution_count": null,
   "source": [
    "dmaps, dmaps_visualizations = [], []\n",
    "for depthmap_fname, rgb_fname in tqdm(list(zip(depthmap_fnames, rgb_fnames))):\n",
    "    dmap = Depthmap.create_from_zip(str(depthmap_dir), str(depthmap_fname), str(rgb_fname), str(calibration_file))\n",
    "    dmaps.append(dmap)\n",
    "    dmaps_visualizations.append(render_plot(dmap))  # takes 5 seconds each time"
   ],
   "outputs": [],
   "metadata": {}
  },
  {
   "cell_type": "code",
   "execution_count": null,
   "source": [
    "# Easy visualization\n",
    "\n",
    "def trigger_visualization(artifact_idx):\n",
    "    plt.imshow(dmaps_visualizations[artifact_idx])\n",
    "    plt.show()\n",
    "\n",
    "slider = widgets.IntSlider(description='artifact_idx', value=0, min=0, max=2);\n",
    "plot_out = widgets.interactive_output(trigger_visualization, {'artifact_idx': slider});\n",
    "display(widgets.VBox([slider, plot_out], layout=Layout(width='50%')))"
   ],
   "outputs": [],
   "metadata": {}
  },
  {
   "cell_type": "code",
   "execution_count": null,
   "source": [
    "# Advanced visualization\n",
    "\n",
    "class Viz:\n",
    "    def __init__(self, dmaps: List[Depthmap], dmaps_visualizations: List[np.array]):\n",
    "        assert isinstance(dmaps_visualizations, List)\n",
    "        assert len(dmaps) == len(dmaps)\n",
    "        self.dmaps = dmaps\n",
    "        self.dmaps_visualizations = dmaps_visualizations\n",
    "        self.num_artifacts = len(dmaps_visualizations)\n",
    "        self.setup_ui()\n",
    "        \n",
    "    def setup_ui(self):\n",
    "        self.slider = widgets.IntSlider(description='artifact_idx', value=0, min=0, max=self.num_artifacts - 1)\n",
    "        self.plot_out = widgets.interactive_output(self.trigger_visualization, {'artifact_idx': self.slider})\n",
    "        self.export_obj_button = widgets.Button(description=\"Export OBJ!\")\n",
    "        self.export_obj_button.on_click(self.on_export_obj_clicked)\n",
    "        self.message_textbox = widgets.Text(description='')\n",
    "\n",
    "        display(self.slider)\n",
    "        display(self.plot_out);\n",
    "        display(widgets.HBox([self.export_obj_button, self.message_textbox], layout=Layout(width='50%')))\n",
    "        \n",
    "    def trigger_visualization(self, artifact_idx):\n",
    "        plt.imshow(self.dmaps_visualizations[artifact_idx])\n",
    "        plt.show()\n",
    "\n",
    "    def on_export_obj_clicked(self, b):\n",
    "        artifact_idx = self.slider.value\n",
    "        self.message_textbox.value = str(f\"Exporting artifact with index '{artifact_idx}'\")\n",
    "        dmap = dmaps[artifact_idx]\n",
    "        floor = dmap.get_floor_level()\n",
    "        fname = f'output{artifact_idx}.obj'\n",
    "        export_obj(f'export/{fname}', dmap, floor, triangulate=True)\n",
    "        self.message_textbox.value = str(f\"Exported artifact with index '{artifact_idx}'\")"
   ],
   "outputs": [],
   "metadata": {}
  },
  {
   "cell_type": "code",
   "execution_count": null,
   "source": [
    "print(\"Use the slider to navigate between artifacts, click the button to export the current image\")\n",
    "viz = Viz(dmaps=dmaps, dmaps_visualizations=dmaps_visualizations)"
   ],
   "outputs": [],
   "metadata": {}
  },
  {
   "cell_type": "code",
   "execution_count": null,
   "source": [],
   "outputs": [],
   "metadata": {}
  }
 ],
 "metadata": {
  "file_extension": ".py",
  "interpreter": {
   "hash": "e88cacac4a4e81780274e5b67662f71286bfdfe71b49b67699dc84b91a2b06f4"
  },
  "kernel_info": {
   "name": "python3"
  },
  "kernelspec": {
   "name": "python3",
   "display_name": "Python 3.7.5 64-bit ('env_p_3': virtualenvwrapper)"
  },
  "language_info": {
   "codemirror_mode": {
    "name": "ipython",
    "version": 3
   },
   "file_extension": ".py",
   "mimetype": "text/x-python",
   "name": "python",
   "nbconvert_exporter": "python",
   "pygments_lexer": "ipython3",
   "version": "3.7.5"
  },
  "mimetype": "text/x-python",
  "name": "python",
  "npconvert_exporter": "python",
  "nteract": {
   "version": "nteract-front-end@1.0.0"
  },
  "pygments_lexer": "ipython3",
  "version": 3
 },
 "nbformat": 4,
 "nbformat_minor": 4
}